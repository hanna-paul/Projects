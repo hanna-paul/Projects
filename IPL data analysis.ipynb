{
  "cells": [
    {
      "cell_type": "markdown",
      "source": [
        "# **Section 1**\n"
      ],
      "metadata": {
        "id": "3T8-IfMB-Sl0"
      }
    },
    {
      "cell_type": "code",
      "execution_count": null,
      "metadata": {
        "id": "0v1GmgiExX6A"
      },
      "outputs": [],
      "source": [
        "!apt-get install openjdk-8-jdk-headless -qq > /dev/null"
      ]
    },
    {
      "cell_type": "code",
      "execution_count": null,
      "metadata": {
        "id": "oiuV33ljmvOb"
      },
      "outputs": [],
      "source": [
        "!wget -q https://archive.apache.org/dist/spark/spark-3.1.2/spark-3.1.2-bin-hadoop2.7.tgz"
      ]
    },
    {
      "cell_type": "code",
      "execution_count": null,
      "metadata": {
        "id": "OK4lbn8lmxxY"
      },
      "outputs": [],
      "source": [
        "!tar xf spark-3.1.2-bin-hadoop2.7.tgz"
      ]
    },
    {
      "cell_type": "code",
      "execution_count": null,
      "metadata": {
        "id": "YN-xsgIpm4rv"
      },
      "outputs": [],
      "source": [
        "import os\n",
        "os.environ[\"JAVA_HOME\"] = \"/usr/lib/jvm/java-8-openjdk-amd64\"\n",
        "os.environ[\"SPARK_HOME\"] = \"/content/spark-3.1.2-bin-hadoop2.7\"\n"
      ]
    },
    {
      "cell_type": "code",
      "execution_count": null,
      "metadata": {
        "id": "YUlapffzm_sM"
      },
      "outputs": [],
      "source": [
        "!pip install -q findspark"
      ]
    },
    {
      "cell_type": "code",
      "execution_count": null,
      "metadata": {
        "id": "nFksr1JTnRmr"
      },
      "outputs": [],
      "source": [
        "import findspark\n",
        "findspark.init()"
      ]
    },
    {
      "cell_type": "code",
      "execution_count": null,
      "metadata": {
        "id": "8B18y9R3nEHZ"
      },
      "outputs": [],
      "source": [
        "from pyspark.sql import SparkSession\n",
        "spark = (SparkSession\n",
        " .builder\n",
        " .appName(\"IPL\")\n",
        " .getOrCreate())\n"
      ]
    },
    {
      "cell_type": "code",
      "execution_count": null,
      "metadata": {
        "id": "jCAKXjHSnq3-"
      },
      "outputs": [],
      "source": [
        "df_matches = spark.read.load(\"ipl_matches.csv\",\n",
        "                     format=\"csv\", sep=\",\", inferSchema=\"true\", header=\"true\")"
      ]
    },
    {
      "cell_type": "code",
      "execution_count": null,
      "metadata": {
        "id": "ZFr7qjkkqEI-"
      },
      "outputs": [],
      "source": [
        "df_venue = spark.read.load(\"ipl_venue.csv\",\n",
        "                     format=\"csv\", sep=\",\", inferSchema=\"true\", header=\"true\")"
      ]
    },
    {
      "cell_type": "code",
      "execution_count": null,
      "metadata": {
        "id": "b_1DrDqpqNKM"
      },
      "outputs": [],
      "source": [
        "df_ball_by_ball = spark.read.load(\"ipl_ball_by_ball.csv\",\n",
        "                     format=\"csv\", sep=\",\", inferSchema=\"true\", header=\"true\")"
      ]
    },
    {
      "cell_type": "code",
      "execution_count": null,
      "metadata": {
        "id": "3SeMdyrsspSx"
      },
      "outputs": [],
      "source": [
        "df_venue.createOrReplaceTempView('Venues')\n",
        "df_matches.createOrReplaceTempView('IPLmatches')\n",
        "df_ball_by_ball.createOrReplaceTempView('Ballbyball')"
      ]
    },
    {
      "cell_type": "code",
      "execution_count": null,
      "metadata": {
        "colab": {
          "base_uri": "https://localhost:8080/"
        },
        "id": "RKYdgUjDs9Pt",
        "outputId": "7e7ec83e-7a42-44d9-c6c2-2a86317d15ff"
      },
      "outputs": [
        {
          "output_type": "execute_result",
          "data": {
            "text/plain": [
              "[Table(name='ballbyball', database=None, description=None, tableType='TEMPORARY', isTemporary=True),\n",
              " Table(name='iplmatches', database=None, description=None, tableType='TEMPORARY', isTemporary=True),\n",
              " Table(name='venues', database=None, description=None, tableType='TEMPORARY', isTemporary=True)]"
            ]
          },
          "metadata": {},
          "execution_count": 132
        }
      ],
      "source": [
        "spark.catalog.listTables()"
      ]
    },
    {
      "cell_type": "code",
      "execution_count": null,
      "metadata": {
        "colab": {
          "base_uri": "https://localhost:8080/"
        },
        "id": "6R-PFTvSulYY",
        "outputId": "6842a3ef-054a-4ab0-83d8-4535652874a0"
      },
      "outputs": [
        {
          "output_type": "stream",
          "name": "stdout",
          "text": [
            "+--------+--------------------+--------------+\n",
            "|venue_id|               venue|          city|\n",
            "+--------+--------------------+--------------+\n",
            "|       1|Dr. Y.S. Rajasekh...| Visakhapatnam|\n",
            "|       2|Sharjah Cricket S...|       Sharjah|\n",
            "|       3|JSCA Internationa...|        Ranchi|\n",
            "|       4|Saurashtra Cricke...|        Rajkot|\n",
            "|       5|Shaheed Veer Nara...|        Raipur|\n",
            "|       6|Maharashtra Crick...|          Pune|\n",
            "|       7|Subrata Roy Sahar...|          Pune|\n",
            "|       8|    St George's Park|Port Elizabeth|\n",
            "|       9|Vidarbha Cricket ...|        Nagpur|\n",
            "|      12|   Brabourne Stadium|        Mumbai|\n",
            "|      13|Dr DY Patil Sport...|        Mumbai|\n",
            "|      14|    Wankhede Stadium|        Mumbai|\n",
            "|      15|        Eden Gardens|       Kolkata|\n",
            "|      16|       Nehru Stadium|         Kochi|\n",
            "|      17|De Beers Diamond ...|     Kimberley|\n",
            "|      18|          Green Park|        Kanpur|\n",
            "|      19|New Wanderers Sta...|  Johannesburg|\n",
            "|      20|Sawai Mansingh St...|        Jaipur|\n",
            "|      21|Holkar Cricket St...|        Indore|\n",
            "|      22|Rajiv Gandhi Inte...|     Hyderabad|\n",
            "+--------+--------------------+--------------+\n",
            "only showing top 20 rows\n",
            "\n"
          ]
        }
      ],
      "source": [
        "df_venue.show()"
      ]
    },
    {
      "cell_type": "code",
      "execution_count": null,
      "metadata": {
        "colab": {
          "base_uri": "https://localhost:8080/"
        },
        "id": "9ZSHgINozZIO",
        "outputId": "e1cd3ea0-73b0-4335-cdb1-3d15cc15a41b"
      },
      "outputs": [
        {
          "output_type": "stream",
          "name": "stdout",
          "text": [
            "+--------+----------+---------------+--------+-------------+--------------------+--------------------+--------------------+-------------+--------------------+-------+-------------+----------+------+-----------+--------------+\n",
            "|match_id|      date|player_of_match|venue_id|neutral_venue|               team1|               team2|         toss_winner|toss_decision|              winner| result|result_margin|eliminator|method|    umpire1|       umpire2|\n",
            "+--------+----------+---------------+--------+-------------+--------------------+--------------------+--------------------+-------------+--------------------+-------+-------------+----------+------+-----------+--------------+\n",
            "|  335982|2008-04-18|    BB McCullum|      35|            0|Royal Challengers...|Kolkata Knight Ri...|Royal Challengers...|        field|Kolkata Knight Ri...|   runs|          140|         N|    NA|  Asad Rauf|   RE Koertzen|\n",
            "|  335983|2008-04-19|     MEK Hussey|      31|            0|     Kings XI Punjab| Chennai Super Kings| Chennai Super Kings|          bat| Chennai Super Kings|   runs|           33|         N|    NA|  MR Benson|    SL Shastri|\n",
            "|  335984|2008-04-19|    MF Maharoof|      27|            0|    Delhi Daredevils|    Rajasthan Royals|    Rajasthan Royals|          bat|    Delhi Daredevils|wickets|            9|         N|    NA|  Aleem Dar|GA Pratapkumar|\n",
            "|  335985|2008-04-20|     MV Boucher|      14|            0|      Mumbai Indians|Royal Challengers...|      Mumbai Indians|          bat|Royal Challengers...|wickets|            5|         N|    NA|   SJ Davis|     DJ Harper|\n",
            "|  335986|2008-04-20|      DJ Hussey|      15|            0|Kolkata Knight Ri...|     Deccan Chargers|     Deccan Chargers|          bat|Kolkata Knight Ri...|wickets|            5|         N|    NA|  BF Bowden|   K Hariharan|\n",
            "|  335987|2008-04-21|      SR Watson|      20|            0|    Rajasthan Royals|     Kings XI Punjab|     Kings XI Punjab|          bat|    Rajasthan Royals|wickets|            6|         N|    NA|  Aleem Dar|     RB Tiffin|\n",
            "|  335988|2008-04-22|       V Sehwag|      22|            0|     Deccan Chargers|    Delhi Daredevils|     Deccan Chargers|          bat|    Delhi Daredevils|wickets|            9|         N|    NA|  IL Howell|     AM Saheba|\n",
            "|  335989|2008-04-23|      ML Hayden|      29|            0| Chennai Super Kings|      Mumbai Indians|      Mumbai Indians|        field| Chennai Super Kings|   runs|            6|         N|    NA|  DJ Harper|GA Pratapkumar|\n",
            "|  335990|2008-04-24|      YK Pathan|      22|            0|     Deccan Chargers|    Rajasthan Royals|    Rajasthan Royals|        field|    Rajasthan Royals|wickets|            3|         N|    NA|  Asad Rauf|     MR Benson|\n",
            "|  335991|2008-04-25|  KC Sangakkara|      31|            0|     Kings XI Punjab|      Mumbai Indians|      Mumbai Indians|        field|     Kings XI Punjab|   runs|           66|         N|    NA|  Aleem Dar|     AM Saheba|\n",
            "|  335992|2008-04-26|      SR Watson|      35|            0|Royal Challengers...|    Rajasthan Royals|    Rajasthan Royals|        field|    Rajasthan Royals|wickets|            7|         N|    NA|  MR Benson|     IL Howell|\n",
            "|  335993|2008-04-26|       JDP Oram|      29|            0| Chennai Super Kings|Kolkata Knight Ri...|Kolkata Knight Ri...|          bat| Chennai Super Kings|wickets|            9|         N|    NA|  BF Bowden|AV Jayaprakash|\n",
            "|  335994|2008-04-27|   AC Gilchrist|      13|            0|      Mumbai Indians|     Deccan Chargers|     Deccan Chargers|        field|     Deccan Chargers|wickets|           10|         N|    NA|  Asad Rauf|    SL Shastri|\n",
            "|  335995|2008-04-27|      SM Katich|      31|            0|     Kings XI Punjab|    Delhi Daredevils|    Delhi Daredevils|          bat|     Kings XI Punjab|wickets|            4|         N|    NA|RE Koertzen|     I Shivram|\n",
            "|  335996|2008-04-28|       MS Dhoni|      35|            0|Royal Challengers...| Chennai Super Kings| Chennai Super Kings|          bat| Chennai Super Kings|   runs|           13|         N|    NA|BR Doctrove|     RB Tiffin|\n",
            "|  335997|2008-04-29|  ST Jayasuriya|      15|            0|Kolkata Knight Ri...|      Mumbai Indians|Kolkata Knight Ri...|          bat|      Mumbai Indians|wickets|            7|         N|    NA|  BF Bowden|AV Jayaprakash|\n",
            "|  335998|2008-04-30|     GD McGrath|      27|            0|    Delhi Daredevils|Royal Challengers...|Royal Challengers...|        field|    Delhi Daredevils|   runs|           10|         N|    NA|  Aleem Dar|     I Shivram|\n",
            "|  335999|2008-05-01|       SE Marsh|      22|            0|     Deccan Chargers|     Kings XI Punjab|     Kings XI Punjab|        field|     Kings XI Punjab|wickets|            7|         N|    NA|BR Doctrove|     RB Tiffin|\n",
            "|  336000|2008-05-01|    SA Asnodkar|      20|            0|    Rajasthan Royals|Kolkata Knight Ri...|    Rajasthan Royals|          bat|    Rajasthan Royals|   runs|           45|         N|    NA|RE Koertzen|GA Pratapkumar|\n",
            "|  336001|2008-05-02|       V Sehwag|      29|            0| Chennai Super Kings|    Delhi Daredevils| Chennai Super Kings|          bat|    Delhi Daredevils|wickets|            8|         N|    NA|  BF Bowden|   K Hariharan|\n",
            "+--------+----------+---------------+--------+-------------+--------------------+--------------------+--------------------+-------------+--------------------+-------+-------------+----------+------+-----------+--------------+\n",
            "only showing top 20 rows\n",
            "\n"
          ]
        }
      ],
      "source": [
        "df_matches.show()"
      ]
    },
    {
      "cell_type": "code",
      "execution_count": null,
      "metadata": {
        "colab": {
          "base_uri": "https://localhost:8080/"
        },
        "id": "SYRy6sF0zcdT",
        "outputId": "cf69ffee-9d8e-4dc6-a963-79c20fbe8e27"
      },
      "outputs": [
        {
          "output_type": "stream",
          "name": "stdout",
          "text": [
            "+--------+------+-----+----+-------------+-------------+------------+------------+----------+----------+------------+---------+--------------+----------------+-------+-----------+--------------------+--------------------+\n",
            "|match_id|inning|overs|ball|      batsman|  non_striker|      bowler|batsman_runs|extra_runs|total_runs|non_boundary|is_wicket|dismissal_kind|player_dismissed|fielder|extras_type|        batting_team|        bowling_team|\n",
            "+--------+------+-----+----+-------------+-------------+------------+------------+----------+----------+------------+---------+--------------+----------------+-------+-----------+--------------------+--------------------+\n",
            "|  419157|     2|   16|   4|      V Kohli|R Vinay Kumar|CRD Fernando|           0|         0|         0|           0|        0|            NA|              NA|     NA|         NA|Royal Challengers...|      Mumbai Indians|\n",
            "|  419157|     2|   16|   5|      V Kohli|R Vinay Kumar|CRD Fernando|           1|         0|         1|           0|        0|            NA|              NA|     NA|         NA|Royal Challengers...|      Mumbai Indians|\n",
            "|  419157|     2|   16|   6|R Vinay Kumar|      V Kohli|CRD Fernando|           1|         0|         1|           0|        0|            NA|              NA|     NA|         NA|Royal Challengers...|      Mumbai Indians|\n",
            "|  419157|     2|   17|   1|R Vinay Kumar|      V Kohli|   R McLaren|           1|         0|         1|           0|        0|            NA|              NA|     NA|         NA|Royal Challengers...|      Mumbai Indians|\n",
            "|  419157|     2|   17|   2|      V Kohli|R Vinay Kumar|   R McLaren|           1|         0|         1|           0|        0|            NA|              NA|     NA|         NA|Royal Challengers...|      Mumbai Indians|\n",
            "|  419157|     2|   17|   3|R Vinay Kumar|      V Kohli|   R McLaren|           0|         0|         0|           0|        0|            NA|              NA|     NA|         NA|Royal Challengers...|      Mumbai Indians|\n",
            "|  419157|     2|   17|   4|R Vinay Kumar|      V Kohli|   R McLaren|           0|         0|         0|           0|        0|            NA|              NA|     NA|         NA|Royal Challengers...|      Mumbai Indians|\n",
            "|  419157|     2|   17|   5|R Vinay Kumar|      V Kohli|   R McLaren|           1|         0|         1|           0|        0|            NA|              NA|     NA|         NA|Royal Challengers...|      Mumbai Indians|\n",
            "|  419157|     2|   17|   6|      V Kohli|R Vinay Kumar|   R McLaren|           1|         0|         1|           0|        0|            NA|              NA|     NA|         NA|Royal Challengers...|      Mumbai Indians|\n",
            "|  419157|     2|   18|   1|      V Kohli|R Vinay Kumar|  KA Pollard|           4|         0|         4|           0|        0|            NA|              NA|     NA|         NA|Royal Challengers...|      Mumbai Indians|\n",
            "|  419157|     2|   18|   2|      V Kohli|R Vinay Kumar|  KA Pollard|           0|         0|         0|           0|        1|        caught|         V Kohli|AP Tare|         NA|Royal Challengers...|      Mumbai Indians|\n",
            "|  419157|     2|   18|   3|R Vinay Kumar| Pankaj Singh|  KA Pollard|           0|         1|         1|           0|        0|            NA|              NA|     NA|      wides|Royal Challengers...|      Mumbai Indians|\n",
            "|  419157|     2|   18|   4|R Vinay Kumar| Pankaj Singh|  KA Pollard|           1|         0|         1|           0|        0|            NA|              NA|     NA|         NA|Royal Challengers...|      Mumbai Indians|\n",
            "|  419157|     2|   18|   5| Pankaj Singh|R Vinay Kumar|  KA Pollard|           1|         0|         1|           0|        0|            NA|              NA|     NA|         NA|Royal Challengers...|      Mumbai Indians|\n",
            "|  419157|     2|   18|   6|R Vinay Kumar| Pankaj Singh|  KA Pollard|           1|         0|         1|           0|        0|            NA|              NA|     NA|         NA|Royal Challengers...|      Mumbai Indians|\n",
            "|  419157|     2|   18|   7| Pankaj Singh|R Vinay Kumar|  KA Pollard|           0|         0|         0|           0|        1|        caught|    Pankaj Singh| Z Khan|         NA|Royal Challengers...|      Mumbai Indians|\n",
            "|  419157|     2|   19|   1|     A Kumble|R Vinay Kumar|   R McLaren|           0|         0|         0|           0|        0|            NA|              NA|     NA|         NA|Royal Challengers...|      Mumbai Indians|\n",
            "|  419157|     1|    0|   1|    R McLaren| SR Tendulkar|    DW Steyn|           1|         0|         1|           0|        0|            NA|              NA|     NA|         NA|      Mumbai Indians|Royal Challengers...|\n",
            "|  419157|     1|    0|   2| SR Tendulkar|    R McLaren|    DW Steyn|           0|         0|         0|           0|        0|            NA|              NA|     NA|         NA|      Mumbai Indians|Royal Challengers...|\n",
            "|  419157|     1|    0|   3| SR Tendulkar|    R McLaren|    DW Steyn|           1|         0|         1|           0|        0|            NA|              NA|     NA|         NA|      Mumbai Indians|Royal Challengers...|\n",
            "+--------+------+-----+----+-------------+-------------+------------+------------+----------+----------+------------+---------+--------------+----------------+-------+-----------+--------------------+--------------------+\n",
            "only showing top 20 rows\n",
            "\n"
          ]
        }
      ],
      "source": [
        "df_ball_by_ball.show()"
      ]
    },
    {
      "cell_type": "markdown",
      "source": [
        "# **Section 2**"
      ],
      "metadata": {
        "id": "rBoTJJkieA6h"
      }
    },
    {
      "cell_type": "markdown",
      "metadata": {
        "id": "UomburNaZb-N"
      },
      "source": [
        "### **1. Top 3 venues which hosted the most number of eliminator matches**"
      ]
    },
    {
      "cell_type": "code",
      "execution_count": null,
      "metadata": {
        "colab": {
          "base_uri": "https://localhost:8080/"
        },
        "id": "R1GjW1dkzgBy",
        "outputId": "35964fcb-0b91-4cf5-9eb0-51bde4ecd2a0"
      },
      "outputs": [
        {
          "output_type": "stream",
          "name": "stdout",
          "text": [
            "+--------+-----+--------------------+---------+\n",
            "|venue_id|count|               venue|     city|\n",
            "+--------+-----+--------------------+---------+\n",
            "|      25|    3|Dubai Internation...|    Dubai|\n",
            "|      38|    2|Sheikh Zayed Stadium|Abu Dhabi|\n",
            "|      27|    1|    Feroz Shah Kotla|    Delhi|\n",
            "+--------+-----+--------------------+---------+\n",
            "only showing top 3 rows\n",
            "\n"
          ]
        }
      ],
      "source": [
        "eli_venue=df_matches.where(df_matches.eliminator==\"Y\").groupBy('venue_id').count()\n",
        "# eli_venue.sort('count',ascending=False).show()\n",
        "q1=eli_venue.join(df_venue,['venue_id'],\"inner\")\n",
        "q1.sort('count',ascending=False).show(3)"
      ]
    },
    {
      "cell_type": "markdown",
      "metadata": {
        "id": "r43qNIBvRMwT"
      },
      "source": [
        "There are only 10 venues where the eliminator matches took place. Except two stadiums all other stadiums hosted only one eliminator match. Amoung those stadiums Dubai International and Sheikh Zayed stadiums are the top most, which hosted 3 and 2 eliminator matches respectively."
      ]
    },
    {
      "cell_type": "markdown",
      "metadata": {
        "id": "1GoKNVHjYScg"
      },
      "source": [
        "### **2. Most number of catches taken by a player in IPL history**"
      ]
    },
    {
      "cell_type": "code",
      "execution_count": null,
      "metadata": {
        "colab": {
          "base_uri": "https://localhost:8080/"
        },
        "id": "5JcTs5Oc8Rdd",
        "outputId": "9ff81af1-09a9-4264-c704-d27757b0e9b0"
      },
      "outputs": [
        {
          "output_type": "stream",
          "name": "stdout",
          "text": [
            "+----------+-------+\n",
            "|   fielder|catches|\n",
            "+----------+-------+\n",
            "|KD Karthik|    118|\n",
            "+----------+-------+\n",
            "only showing top 1 row\n",
            "\n"
          ]
        }
      ],
      "source": [
        "caught=df_ball_by_ball.where(df_ball_by_ball.dismissal_kind==\"caught\").groupBy('fielder').count()\n",
        "caught=caught.withColumnRenamed('count','catches')\n",
        "caught.sort('catches',ascending=False).show(1)"
      ]
    },
    {
      "cell_type": "markdown",
      "metadata": {
        "id": "ukDHe1GlP67y"
      },
      "source": [
        "KD Karthik has taken the most number of catches in IPL history.He took 118 number of catches."
      ]
    },
    {
      "cell_type": "markdown",
      "metadata": {
        "id": "1WNftvk7X0N8"
      },
      "source": [
        "### **3. Highest wicket taker in matches which were affected by D/L method**"
      ]
    },
    {
      "cell_type": "code",
      "execution_count": null,
      "metadata": {
        "colab": {
          "base_uri": "https://localhost:8080/"
        },
        "id": "QsgZUYhKXIdT",
        "outputId": "2df4431f-e963-45b7-97a2-fabc3b2eeb26"
      },
      "outputs": [
        {
          "output_type": "stream",
          "name": "stdout",
          "text": [
            "+--------+-------+\n",
            "|  bowler|wickets|\n",
            "+--------+-------+\n",
            "|R Ashwin|      8|\n",
            "+--------+-------+\n",
            "only showing top 1 row\n",
            "\n"
          ]
        }
      ],
      "source": [
        "method=df_matches.where(df_matches.method=='D/L')\n",
        "# method.show()\n",
        "wicket=df_ball_by_ball.join(method,['match_id'],\"inner\")\n",
        "# wicket.show()\n",
        "q3=wicket.where(wicket.is_wicket=='1').groupBy('bowler').count()\n",
        "q3=q3.withColumnRenamed('count','wickets')\n",
        "q3.sort('wickets',ascending=False).show(1)"
      ]
    },
    {
      "cell_type": "markdown",
      "metadata": {
        "id": "lYGM40IrwuyJ"
      },
      "source": [
        "R Ashwin got the highest number of wickets in matches which were affected by Duckworth-Lewis's method (D/L method)."
      ]
    },
    {
      "cell_type": "markdown",
      "metadata": {
        "id": "XO1GnTwHyjmE"
      },
      "source": [
        "### **4. Highest Strike rate by a batsman in non powerplay overs**"
      ]
    },
    {
      "cell_type": "code",
      "execution_count": null,
      "metadata": {
        "colab": {
          "base_uri": "https://localhost:8080/"
        },
        "id": "XJByjd4VaNLR",
        "outputId": "8a3fbdad-2071-46cd-af9f-95c0021348d9"
      },
      "outputs": [
        {
          "output_type": "stream",
          "name": "stdout",
          "text": [
            "+------------+---------------+---------+-----------+\n",
            "|     batsman|sum(total_runs)|sum(ball)|Strike_rate|\n",
            "+------------+---------------+---------+-----------+\n",
            "|Vishnu Vinod|              9|       12|       75.0|\n",
            "+------------+---------------+---------+-----------+\n",
            "only showing top 1 row\n",
            "\n"
          ]
        }
      ],
      "source": [
        "powerplay_overs=df_ball_by_ball.where((df_ball_by_ball.overs >=7)&(df_ball_by_ball.overs<=20)&(df_ball_by_ball.extras_type!='wides')&\n",
        "                                      (df_ball_by_ball.extras_type!='noballs'))\n",
        "# powerplay_overs.show()\n",
        "total=powerplay_overs.groupBy('batsman').sum('total_runs','ball')\n",
        "# total.show()\n",
        "from pyspark.sql.functions import col\n",
        "q4=total.withColumn('Strike_rate',((col('sum(total_runs)')/col('sum(ball)'))*100))\n",
        "q4.sort('Strike_rate',ascending=False).show(1)"
      ]
    },
    {
      "cell_type": "markdown",
      "source": [
        "Highest strike rate by a batsman in non powerplay overs is 75."
      ],
      "metadata": {
        "id": "0jlAjmBjWuXc"
      }
    },
    {
      "cell_type": "markdown",
      "metadata": {
        "id": "Ktq_HfiWavRS"
      },
      "source": [
        "### **5. Highest extra runs in a venue(stadium,city)**"
      ]
    },
    {
      "cell_type": "code",
      "execution_count": null,
      "metadata": {
        "colab": {
          "base_uri": "https://localhost:8080/"
        },
        "id": "-qev5hy8SBta",
        "outputId": "ae35951e-04a5-4346-ce63-d7ff7964a52d"
      },
      "outputs": [
        {
          "output_type": "stream",
          "name": "stdout",
          "text": [
            "+--------+--------------------+----------+--------+----------+---------------+-------------+--------------------+--------------------+--------------------+-------------+--------------------+-------+-------------+----------+------+--------------+--------------+-----+\n",
            "|venue_id|               venue|      city|match_id|      date|player_of_match|neutral_venue|               team1|               team2|         toss_winner|toss_decision|              winner| result|result_margin|eliminator|method|       umpire1|       umpire2|total|\n",
            "+--------+--------------------+----------+--------+----------+---------------+-------------+--------------------+--------------------+--------------------+-------------+--------------------+-------+-------------+----------+------+--------------+--------------+-----+\n",
            "|      12|   Brabourne Stadium|    Mumbai|  419132|2010-03-30|     SL Malinga|            0|      Mumbai Indians|     Kings XI Punjab|      Mumbai Indians|        field|      Mumbai Indians|wickets|            4|         N|    NA|   BR Doctrove|   SK Tarapore|   38|\n",
            "|      15|        Eden Gardens|   Kolkata|  335986|2008-04-20|      DJ Hussey|            0|Kolkata Knight Ri...|     Deccan Chargers|     Deccan Chargers|          bat|Kolkata Knight Ri...|wickets|            5|         N|    NA|     BF Bowden|   K Hariharan|   38|\n",
            "|      26|Himachal Pradesh ...|Dharamsala|  501260|2011-05-17|   AC Gilchrist|            0|     Kings XI Punjab|Royal Challengers...|     Kings XI Punjab|          bat|     Kings XI Punjab|   runs|          111|         N|    NA|     Asad Rauf|     AM Saheba|   36|\n",
            "|      12|   Brabourne Stadium|    Mumbai|  829811|2015-05-16|      SR Watson|            0|    Rajasthan Royals|Kolkata Knight Ri...|    Rajasthan Royals|          bat|    Rajasthan Royals|   runs|            9|         N|    NA|  RM Deshpande|RK Illingworth|   36|\n",
            "|      35|M.Chinnaswamy Sta...| Bengaluru|  335982|2008-04-18|    BB McCullum|            0|Royal Challengers...|Kolkata Knight Ri...|Royal Challengers...|        field|Kolkata Knight Ri...|   runs|          140|         N|    NA|     Asad Rauf|   RE Koertzen|   36|\n",
            "|      14|    Wankhede Stadium|    Mumbai|  336028|2008-05-21|       SE Marsh|            0|      Mumbai Indians|     Kings XI Punjab|      Mumbai Indians|        field|     Kings XI Punjab|   runs|            1|         N|    NA|     BF Bowden|GA Pratapkumar|   35|\n",
            "|      29|MA Chidambaram St...|   Chennai|  419153|2010-04-13|       R Ashwin|            0| Chennai Super Kings|Kolkata Knight Ri...|Kolkata Knight Ri...|          bat| Chennai Super Kings|wickets|            9|         N|    NA|     SS Hazare|    SJA Taufel|   35|\n",
            "|      14|    Wankhede Stadium|    Mumbai|  733983|2014-05-06|      RG Sharma|            0|      Mumbai Indians|Royal Challengers...|Royal Challengers...|        field|      Mumbai Indians|   runs|           19|         N|    NA|        S Ravi|     K Srinath|   35|\n",
            "|      35|M.Chinnaswamy Sta...| Bengaluru|  829737|2015-04-19|Harbhajan Singh|            0|Royal Challengers...|      Mumbai Indians|Royal Challengers...|        field|      Mumbai Indians|   runs|           18|         N|    NA|RK Illingworth|   VA Kulkarni|   33|\n",
            "|      32|     SuperSport Park| Centurion|  392235|2009-05-21|       V Sehwag|            1|    Delhi Daredevils|      Mumbai Indians|    Delhi Daredevils|        field|    Delhi Daredevils|wickets|            4|         N|    NA|     IL Howell|        S Ravi|   33|\n",
            "+--------+--------------------+----------+--------+----------+---------------+-------------+--------------------+--------------------+--------------------+-------------+--------------------+-------+-------------+----------+------+--------------+--------------+-----+\n",
            "only showing top 10 rows\n",
            "\n"
          ]
        }
      ],
      "source": [
        "extra_runs=df_ball_by_ball.where(df_ball_by_ball.extra_runs!=0).groupBy('match_id').sum('extra_runs')\n",
        "# extra_runs.show()\n",
        "venue=df_matches.join(extra_runs,['match_id'],'inner')\n",
        "# venue.show()\n",
        "q5=df_venue.join(venue,['venue_id'],\"inner\")\n",
        "q5=q5.withColumnRenamed('sum(extra_runs)','total')\n",
        "q5.sort('total',ascending=False).show(10)"
      ]
    },
    {
      "cell_type": "markdown",
      "metadata": {
        "id": "VGDbdFCToXsa"
      },
      "source": [
        "Highest extra runs scored is 38 and there are two venues where the highest extra runs is scored they are, Brabourn Stadium, Mumbai and Eden Gardens, Kolkata."
      ]
    },
    {
      "cell_type": "markdown",
      "metadata": {
        "id": "5jm9iQAIpv9t"
      },
      "source": [
        "### **6. Cricketers with most number of players of the match award in neutral venues**"
      ]
    },
    {
      "cell_type": "code",
      "execution_count": null,
      "metadata": {
        "colab": {
          "base_uri": "https://localhost:8080/"
        },
        "id": "QyoaemqknvJU",
        "outputId": "c6c0be32-a584-4ee8-bf04-179c23e84be2"
      },
      "outputs": [
        {
          "output_type": "stream",
          "name": "stdout",
          "text": [
            "+---------------+-----+\n",
            "|player_of_match|total|\n",
            "+---------------+-----+\n",
            "|      YK Pathan|    3|\n",
            "+---------------+-----+\n",
            "only showing top 1 row\n",
            "\n"
          ]
        }
      ],
      "source": [
        "neutral_venues=df_matches.where(df_matches.neutral_venue=='1').groupBy('player_of_match').count()\n",
        "neutral_venues=neutral_venues.withColumnRenamed('count','total')\n",
        "neutral_venues.sort('total',ascending=False).show(1)"
      ]
    },
    {
      "cell_type": "markdown",
      "metadata": {
        "id": "Ilt75pE7smPE"
      },
      "source": [
        "### **7. List of top 10 players with the highest batting average**"
      ]
    },
    {
      "cell_type": "markdown",
      "source": [
        "Retired hurt cannot be considered as out so filtered the dataset without that category."
      ],
      "metadata": {
        "id": "KJmvY2Y0gfXg"
      }
    },
    {
      "cell_type": "code",
      "source": [
        "data=df_ball_by_ball.filter((df_ball_by_ball.dismissal_kind!='retired hurt')&(df_ball_by_ball.dismissal_kind!='NA'))\n",
        "# data.show()\n",
        "batsman=df_ball_by_ball.groupBy('batsman').sum('batsman_runs')\n",
        "batsman=batsman.withColumnRenamed('sum(batsman_runs)','total_runs')\n",
        "# batsman.sort('sum(batsman_runs)',ascending=False)\n",
        "test=data.join(batsman,['batsman'],\"inner\")\n",
        "# test.show()\n",
        "player_dismissed=test.groupBy('player_dismissed').count()\n",
        "player_dismissed=player_dismissed.withColumnRenamed('count','total')\n",
        "# player_dismissed.show()\n",
        "tr=batsman.join(player_dismissed).where(batsman.batsman == player_dismissed.player_dismissed)\n",
        "# tr.show()\n",
        "tr=tr.withColumn('Batting_average',(col('total_runs')/col('total')))\n",
        "tr.sort('Batting_average',ascending=False).show(10)\n",
        "    "
      ],
      "metadata": {
        "colab": {
          "base_uri": "https://localhost:8080/"
        },
        "id": "WUsCtey2uQZk",
        "outputId": "d96fa358-c491-4219-e52b-724c5822cb66"
      },
      "execution_count": null,
      "outputs": [
        {
          "output_type": "stream",
          "name": "stdout",
          "text": [
            "+-------------+----------+----------------+-----+------------------+\n",
            "|      batsman|total_runs|player_dismissed|total|   Batting_average|\n",
            "+-------------+----------+----------------+-----+------------------+\n",
            "|   MN van Wyk|       167|      MN van Wyk|    3|55.666666666666664|\n",
            "|   RD Gaikwad|       204|      RD Gaikwad|    4|              51.0|\n",
            "|     AC Voges|       181|        AC Voges|    4|             45.25|\n",
            "|     KL Rahul|      2647|        KL Rahul|   59| 44.86440677966102|\n",
            "|      HM Amla|       577|         HM Amla|   13| 44.38461538461539|\n",
            "|Iqbal Abdulla|        88|   Iqbal Abdulla|    2|              44.0|\n",
            "|    DA Warner|      5254|       DA Warner|  123| 42.71544715447155|\n",
            "|  JM Bairstow|       790|     JM Bairstow|   19|41.578947368421055|\n",
            "|     CH Gayle|      4772|        CH Gayle|  116| 41.13793103448276|\n",
            "|     MS Dhoni|      4632|        MS Dhoni|  113|40.991150442477874|\n",
            "+-------------+----------+----------------+-----+------------------+\n",
            "only showing top 10 rows\n",
            "\n"
          ]
        }
      ]
    },
    {
      "cell_type": "markdown",
      "source": [
        "Above is the list of top 10 players with the highest batting average."
      ],
      "metadata": {
        "id": "Zx9Akxir5ciX"
      }
    },
    {
      "cell_type": "markdown",
      "source": [
        "### **8. Who has officiated most number of matches in IPL**"
      ],
      "metadata": {
        "id": "Tl5t0_SLyTnQ"
      }
    },
    {
      "cell_type": "code",
      "execution_count": null,
      "metadata": {
        "colab": {
          "base_uri": "https://localhost:8080/"
        },
        "id": "9Td8t3Ms8A0B",
        "outputId": "bfa2009f-e4e8-4d13-b215-3e88dc5e608c"
      },
      "outputs": [
        {
          "output_type": "stream",
          "name": "stdout",
          "text": [
            "+-------+-----+\n",
            "|umpire1|total|\n",
            "+-------+-----+\n",
            "| S Ravi|  121|\n",
            "+-------+-----+\n",
            "only showing top 1 row\n",
            "\n"
          ]
        }
      ],
      "source": [
        "ump_1=df_matches.groupBy('umpire1').count()\n",
        "ump_1=ump_1.withColumnRenamed('count','count1')\n",
        "# ump_1.show()\n",
        "ump_2=df_matches.groupBy('umpire2').count()\n",
        "ump_2=ump_2.withColumnRenamed('count','count2')\n",
        "# ump_2.show()\n",
        "q8=ump_1.join(ump_2).where(ump_1.umpire1 == ump_2.umpire2)\n",
        "q8=q8.withColumn('total',(col('count1')+col('count2')))\n",
        "q8.select('umpire1','total').sort('total',ascending=False).show(1)\n"
      ]
    },
    {
      "cell_type": "markdown",
      "source": [
        "Umpire S Ravi has officiated the most number of matches in IPL."
      ],
      "metadata": {
        "id": "IufFx2IkVBMM"
      }
    },
    {
      "cell_type": "markdown",
      "source": [
        "### **9. Venue details of match where V Kohli scored his highest individual runs in IPL**"
      ],
      "metadata": {
        "id": "cmo9Yxl-VMlU"
      }
    },
    {
      "cell_type": "code",
      "source": [
        "kohli=df_ball_by_ball.filter(df_ball_by_ball.batsman=='V Kohli')\n",
        "kohli=kohli.groupBy('match_id').sum('batsman_runs')\n",
        "#kohli.show()\n",
        "q9=df_matches.join(kohli,['match_id'],\"inner\")\n",
        "q9=df_venue.join(q9,['venue_id'],\"inner\")\n",
        "q9.sort('sum(batsman_runs)',ascending=False).show(1)"
      ],
      "metadata": {
        "colab": {
          "base_uri": "https://localhost:8080/"
        },
        "id": "0OWsXCcVRpJh",
        "outputId": "bc2ea904-bd9a-4c54-ec54-b8ee1857ba68"
      },
      "execution_count": null,
      "outputs": [
        {
          "output_type": "stream",
          "name": "stdout",
          "text": [
            "+--------+--------------------+---------+--------+----------+---------------+-------------+--------------------+---------------+---------------+-------------+--------------------+------+-------------+----------+------+--------------------+---------+-----------------+\n",
            "|venue_id|               venue|     city|match_id|      date|player_of_match|neutral_venue|               team1|          team2|    toss_winner|toss_decision|              winner|result|result_margin|eliminator|method|             umpire1|  umpire2|sum(batsman_runs)|\n",
            "+--------+--------------------+---------+--------+----------+---------------+-------------+--------------------+---------------+---------------+-------------+--------------------+------+-------------+----------+------+--------------------+---------+-----------------+\n",
            "|      35|M.Chinnaswamy Sta...|Bengaluru|  980999|2016-05-18|        V Kohli|            0|Royal Challengers...|Kings XI Punjab|Kings XI Punjab|        field|Royal Challengers...|  runs|           82|         N|   D/L|KN Ananthapadmana...|M Erasmus|              113|\n",
            "+--------+--------------------+---------+--------+----------+---------------+-------------+--------------------+---------------+---------------+-------------+--------------------+------+-------------+----------+------+--------------------+---------+-----------------+\n",
            "only showing top 1 row\n",
            "\n"
          ]
        }
      ]
    },
    {
      "cell_type": "markdown",
      "source": [
        "### **10. Creative Case study**"
      ],
      "metadata": {
        "id": "KobhaIhH50NL"
      }
    },
    {
      "cell_type": "code",
      "source": [
        "from pyspark.sql import functions as F"
      ],
      "metadata": {
        "id": "smCOBaXP3Af9"
      },
      "execution_count": null,
      "outputs": []
    },
    {
      "cell_type": "code",
      "source": [
        "win=df_matches.withColumn(\"T/F\",F.when(df_matches.toss_winner==df_matches.winner,1).otherwise(0))\n",
        "win=win.groupBy('T/F').count()\n",
        "win=win.withColumn('perct',((col('count')/816))*100)\n",
        "win.show()\n"
      ],
      "metadata": {
        "colab": {
          "base_uri": "https://localhost:8080/"
        },
        "id": "p_obhu6z3Rk6",
        "outputId": "eddab611-0940-439d-93df-5897ecf548f5"
      },
      "execution_count": null,
      "outputs": [
        {
          "output_type": "stream",
          "name": "stdout",
          "text": [
            "+---+-----+------------------+\n",
            "|T/F|count|             perct|\n",
            "+---+-----+------------------+\n",
            "|  1|  418|51.225490196078425|\n",
            "|  0|  398| 48.77450980392157|\n",
            "+---+-----+------------------+\n",
            "\n"
          ]
        }
      ]
    },
    {
      "cell_type": "markdown",
      "source": [
        "Out of 816 matches, we can see that the toss winning team has won the match 418 times but has lost the match 398 times. The difference is not much. So we can infer that the winning/losing tosses have not much impact on the match and its result."
      ],
      "metadata": {
        "id": "a0v3tg_B44Rq"
      }
    },
    {
      "cell_type": "markdown",
      "source": [
        "Visualization of the data:\n",
        "\n",
        "Since there is no plotting feature in pyspark, I'm here using python for visualization."
      ],
      "metadata": {
        "id": "eOtKHBzl5ocE"
      }
    },
    {
      "cell_type": "code",
      "source": [
        "import pandas as pd\n",
        "import matplotlib.pyplot as plt\n",
        "data=pd.read_csv('ipl_matches.csv')\n",
        "df=pd.DataFrame(data)\n",
        "win=df.toss_winner==df.winner\n",
        "win_counts=win.value_counts()\n",
        "win_counts\n",
        "plt.figure(figsize=(12,6))\n",
        "plt.title('Visualization of winning/losing of toss against the match result')\n",
        "plt.pie(win_counts,labels=win_counts.index,autopct='%1.2f%%', startangle=180)"
      ],
      "metadata": {
        "colab": {
          "base_uri": "https://localhost:8080/",
          "height": 477
        },
        "id": "fJ1m7CNmv5yn",
        "outputId": "5ef264ef-8ecf-47eb-bb18-91b6eb70a1b4"
      },
      "execution_count": null,
      "outputs": [
        {
          "output_type": "execute_result",
          "data": {
            "text/plain": [
              "([<matplotlib.patches.Wedge at 0x7f4dd0bd12d0>,\n",
              "  <matplotlib.patches.Wedge at 0x7f4dd0bd1ad0>],\n",
              " [Text(0.04233941135100639, -1.09918486809383, 'True'),\n",
              "  Text(-0.04233941135100625, 1.09918486809383, 'False')],\n",
              " [Text(0.02309422437327621, -0.5995553825966345, '51.23%'),\n",
              "  Text(-0.023094224373276136, 0.5995553825966345, '48.77%')])"
            ]
          },
          "metadata": {},
          "execution_count": 148
        },
        {
          "output_type": "display_data",
          "data": {
            "image/png": "[encoded data removed]",
            "text/plain": [
              "<Figure size 864x432 with 1 Axes>"
            ]
          },
          "metadata": {}
        }
      ]
    },
    {
      "cell_type": "markdown",
      "source": [
        "# **Section 3**"
      ],
      "metadata": {
        "id": "FDUtoul9A3sT"
      }
    },
    {
      "cell_type": "markdown",
      "source": [
        "## **1. Create Database**"
      ],
      "metadata": {
        "id": "RrBvXVHKI9dg"
      }
    },
    {
      "cell_type": "code",
      "source": [
        "import sqlite3 as sqlt\n",
        "import pandas as pd"
      ],
      "metadata": {
        "id": "SW0QZ8PxJIu4"
      },
      "execution_count": 40,
      "outputs": []
    },
    {
      "cell_type": "code",
      "source": [
        "# method for checking the database connection status\n",
        "def get_status(conn):\n",
        "    try:\n",
        "      conn.cursor()\n",
        "      return (\"Connected\")\n",
        "    except Exception as ex:\n",
        "      return(\"Disconnected\")\n",
        "# creating the database and load it with dataset\n",
        "try:\n",
        "  conn=sqlt.connect('database.db')\n",
        "  print(\"Connected succesfully!!\")\n",
        "  \n",
        "  #load the data from the ipl_matches dataset into the database\n",
        "  ipl_matches=pd.read_csv('ipl_matches.csv')\n",
        "  ipl_matches.to_sql('matches',conn,if_exists='replace',index=False)\n",
        "  if True:\n",
        "    print(\"Succesfully added ipl_matches data to a sqlite table\")\n",
        "  else:\n",
        "    print(\"Failed\")\n",
        "\n",
        "  #load the data from the ipl_ball_by_ball dataset into the database\n",
        "  ball_by_ball=pd.read_csv('ipl_ball_by_ball.csv')\n",
        "  ball_by_ball.to_sql('balls',conn,if_exists='replace',index=False)\n",
        "  if True:\n",
        "    print(\"Succesfully added ipl_ball_by_ball data to a sqlite table\")\n",
        "  else:\n",
        "    print(\"Failed \")\n",
        "\n",
        "  #load the data from the ipl_venue dataset into the database\n",
        "  venues=pd.read_csv('ipl_venue.csv')\n",
        "  venues.to_sql('venues',conn,if_exists='replace',index=False)\n",
        "  if True:\n",
        "    print(\"Succesfully added venue data to a sqlite table\")\n",
        "  else:\n",
        "    print(\"Failed\")\n",
        "  cur=conn.cursor()\n",
        "  conn.commit()\n",
        "  print(get_status(conn)) # checking the database connection\n",
        "\n",
        "except sqlt.Error as error:\n",
        "  print(\"Error while connecting to sqlite\", error)\n",
        "\n",
        "\n",
        "finally:\n",
        "  if conn:\n",
        "    conn.close()\n",
        "    print(\"The SQLite connection is closed\")\n",
        "    print(get_status(conn)) # checking the database connection\n"
      ],
      "metadata": {
        "colab": {
          "base_uri": "https://localhost:8080/"
        },
        "id": "Kp3rAz_GYvNZ",
        "outputId": "3d68d2bf-de0f-4de1-f8ba-e1304b71e4c3"
      },
      "execution_count": 52,
      "outputs": [
        {
          "output_type": "stream",
          "name": "stdout",
          "text": [
            "Connected succesfully!!\n",
            "Succesfully added ipl_matches data to a sqlite table\n",
            "Succesfully added ipl_ball_by_ball data to a sqlite table\n",
            "Succesfully added venue data to a sqlite table\n",
            "Connected\n",
            "The SQLite connection is closed\n",
            "Disconnected\n"
          ]
        }
      ]
    },
    {
      "cell_type": "markdown",
      "source": [
        "## **2. Create a class**"
      ],
      "metadata": {
        "id": "gHJBmfRXJU3e"
      }
    },
    {
      "cell_type": "code",
      "source": [
        "from pyspark.sql import SparkSession\n",
        "\n",
        "class DataBase:\n",
        "  #Constructor \n",
        "  #   Takes value from either a url if url provided or takes the data from the csv file\n",
        "  def __init__(self, appName = 'IPL'):\n",
        "\n",
        "    ##Creating a spark session whose name is given as appName\n",
        "    self.spark = (SparkSession\n",
        "    .builder\n",
        "    .appName(appName)\n",
        "    .getOrCreate())\n",
        "    \n",
        "    #Loading the matches dataset\n",
        "    try:\n",
        "      self.df_venue = self.spark.read.load(\"ipl_venue.csv\",format=\"csv\", sep=\",\", inferSchema=\"true\", header=\"true\")\n",
        "    except:\n",
        "      print(\"error\")\n",
        "    self.df_venue.createOrReplaceTempView('Venues')\n",
        "    try:\n",
        "      self.df_matches = self.spark.read.load(\"ipl_matches.csv\",format=\"csv\", sep=\",\", inferSchema=\"true\", header=\"true\")\n",
        "    except:\n",
        "      print(\"error\")\n",
        "    self.df_matches.createOrReplaceTempView('IPLmatches')\n",
        "    try:\n",
        "      self.df_ball_by_ball = self.spark.read.load(\"ipl_ball_by_ball.csv\",format=\"csv\", sep=\",\", inferSchema=\"true\", header=\"true\")\n",
        "    except:\n",
        "      print(\"error\")\n",
        "    self.df_ball_by_ball.createOrReplaceTempView('Ballbyball')  \n",
        "  def get_query1_result(self):\n",
        "    #return the answer to Q1 in Section 2 - return the answer as a dictionary\n",
        "    self.new_df = self.df_venue.join(self.df_matches, on='venue_id', how='inner')\n",
        "    self.new_ans_df1 = self.new_df.filter(self.new_df['eliminator']=='Y').select(['venue', 'eliminator']).groupBy('venue').count()\n",
        "    self.ans = self.new_ans_df1.sort('count', ascending=False).select(\"Venue\").toPandas()\n",
        "    return {\"Venue\" : list(self.ans.Venue.values)[:3]}\n",
        "\n",
        "  def get_query2_result(self):\n",
        "    self.caught=self.df_ball_by_ball.where(self.df_ball_by_ball.dismissal_kind==\"caught\").groupBy('fielder').count()\n",
        "    self.caught=self.caught.withColumnRenamed('count','catches')\n",
        "    self.ans=self.caught.sort('catches',ascending=False).select('catches').toPandas()\n",
        "    return{\"Catches\" : list(self.ans.catches.values)[:1]}\n",
        "  \n",
        "  def get_query3_result(self):\n",
        "    self.method=self.df_matches.where(self.df_matches.method=='D/L')\n",
        "    self.wicket=self.df_ball_by_ball.join(self.method,['match_id'],\"inner\")\n",
        "    self.q3=self.wicket.where(self.wicket.is_wicket=='1').groupBy('bowler').count()\n",
        "    self.q3=q3.withColumnRenamed('count','wickets')\n",
        "    self.ans=self.q3.sort('wickets',ascending=False).select('bowler').toPandas()\n",
        "    return{\"Bowler\" : list(self.ans.bowler.values)[:1]}\n",
        "\n",
        "  def get_query4_result(self):\n",
        "    self.powerplay_overs=self.df_ball_by_ball.where((self.df_ball_by_ball.overs >=7)&(self.df_ball_by_ball.overs<=20)&\n",
        "                                                    (self.df_ball_by_ball.extras_type!='wides')&(self.df_ball_by_ball.extras_type!='noballs'))\n",
        "    self.total=self.powerplay_overs.groupBy('batsman').sum('total_runs','ball')\n",
        "    from pyspark.sql.functions import col\n",
        "    self.q4=total.withColumn('Strike_rate',((col('sum(total_runs)')/col('sum(ball)'))*100))\n",
        "    self.ans =self.q4.sort('Strike_rate',ascending=False).select('Strike_rate').toPandas()\n",
        "    return{\"Strike rate\" : list(self.ans.Strike_rate.values)[:1]}\n",
        "\n",
        "  def get_query5_result(self):\n",
        "    self.extra_runs=self.df_ball_by_ball.where(self.df_ball_by_ball.extra_runs!=0).groupBy('match_id').sum('extra_runs')\n",
        "    self.venue=self.df_matches.join(extra_runs,['match_id'],'inner')\n",
        "    self.q5=self.df_venue.join(self.venue,['venue_id'],\"inner\")\n",
        "    self.q5=self.q5.withColumnRenamed('sum(extra_runs)','total')\n",
        "    self.ans=self.q5.sort('sum(extra_runs)',ascending=False).select('total','venue','city').toPandas()\n",
        "    return{\"Extra runs\" : list(self.ans.total.values)[:1],\"Stadium\" : list(self.ans.venue.values)[:1],\"City\" : list(self.ans.city.values)[:1]}\n",
        "\n",
        "  def get_query6_result(self):\n",
        "    self.neutral_venues=self.df_matches.where(self.df_matches.neutral_venue=='1').groupBy('player_of_match').count()\n",
        "    self.neutral_venues=self.neutral_venues.withColumnRenamed('count','total')\n",
        "    self.ans=self.neutral_venues.sort('total',ascending=False).select('player_of_match').toPandas()\n",
        "    return{\"Player of the match\" : list(self.ans.player_of_match.values)[:1]}\n",
        "\n",
        "  def get_query7_result(self):\n",
        "    self.data=self.df_ball_by_ball.filter((self.df_ball_by_ball.dismissal_kind!='retired hurt')&(self.df_ball_by_ball.dismissal_kind!='NA'))\n",
        "    self.batsman=self.df_ball_by_ball.groupBy('batsman').sum('batsman_runs')\n",
        "    self.batsman=self.batsman.withColumnRenamed('sum(batsman_runs)','total_runs')\n",
        "    self.test=self.data.join(self.batsman,['batsman'],\"inner\")\n",
        "    self.player_dismissed=self.test.groupBy('player_dismissed').count()\n",
        "    self.player_dismissed=self.player_dismissed.withColumnRenamed('count','total')\n",
        "    self.tr=self.batsman.join(self.player_dismissed).where(self.batsman.batsman == self.player_dismissed.player_dismissed)\n",
        "    self.tr=self.tr.withColumn('Batting_average',(col('total_runs')/col('total')))\n",
        "    self.ans=self.tr.sort('Batting_average',ascending=False).select('batsman','total_runs','player_dismissed','total','Batting_average').toPandas()\n",
        "    return{\"Batsman\" : list(self.ans.batsman.values)[:10],\"Runs\" : list(self.ans.total_runs.values)[:10],\n",
        "           \"player_dismissed\" : list(self.ans.player_dismissed.values)[:10], \"Out Total\" : list(self.ans.total.values)[:10],\n",
        "           \"Batting Average\" : list(self.ans.Batting_average.values)[:10]}\n",
        "\n",
        "  def get_query8_result(self):\n",
        "    self.ump_1=self.df_matches.groupBy('umpire1').count()\n",
        "    self.ump_1=self.ump_1.withColumnRenamed('count','count1')\n",
        "    self.ump_2=self.df_matches.groupBy('umpire2').count()\n",
        "    self.ump_2=self.ump_2.withColumnRenamed('count','count2')\n",
        "    self.q8=self.ump_1.join(self.ump_2).where(self.ump_1.umpire1 == self.ump_2.umpire2)\n",
        "    self.q8=self.q8.withColumn('total',(col('count1')+col('count2')))\n",
        "    self.ans=self.q8.select('umpire1','total').sort('total',ascending=False).select('umpire1').toPandas()\n",
        "    return{\"Umpire_Name\" : list(self.ans.umpire1.values)[:1]}\n",
        "\n",
        "  def get_query9_result(self):\n",
        "    self.kohli=self.df_ball_by_ball.filter(self.df_ball_by_ball.batsman=='V Kohli')\n",
        "    self.kohli=self.kohli.groupBy('match_id').sum('batsman_runs')\n",
        "    self.q9=self.df_matches.join(self.kohli,['match_id'],\"inner\")\n",
        "    self.q9=self.df_venue.join(self.q9,['venue_id'],\"inner\")\n",
        "    self.ans=self.q9.sort('sum(batsman_runs)',ascending=False).select('venue_id','venue','city').toPandas()\n",
        "    return{\"Venue_id\" : list(self.ans.venue_id.values)[:1], \"Venue\" : list(self.ans.venue.values)[:1],\n",
        "           \"City\" : list(self.ans.city.values)[:1]}\n",
        "\n",
        "  def get_query10_result(self):\n",
        "    from pyspark.sql import functions as F\n",
        "    self.win=self.df_matches.withColumn(\"T/F\",F.when(self.df_matches.toss_winner==self.df_matches.winner,1).otherwise(0))\n",
        "    self.win=self.win.groupBy('T/F').count()\n",
        "    self.win=win.withColumn('perct',((col('count')/816))*100)\n",
        "    self.ans=self.win.select('perct').toPandas()\n",
        "    return(self.ans)\n"
      ],
      "metadata": {
        "id": "ss8IjpB4A7xM"
      },
      "execution_count": null,
      "outputs": []
    },
    {
      "cell_type": "code",
      "source": [
        "db = DataBase(\"IPL\")"
      ],
      "metadata": {
        "id": "8J9JHGSNGv34"
      },
      "execution_count": null,
      "outputs": []
    },
    {
      "cell_type": "code",
      "source": [
        "#top 3 venues which hosted the most number of eliminator matches\n",
        "qry1_result = db.get_query1_result()\n",
        "print(qry1_result)"
      ],
      "metadata": {
        "colab": {
          "base_uri": "https://localhost:8080/"
        },
        "id": "JFRQNm2vqpiK",
        "outputId": "6571576e-e6ed-4193-e024-7d39510e264f"
      },
      "execution_count": null,
      "outputs": [
        {
          "output_type": "stream",
          "name": "stdout",
          "text": [
            "{'Venue': ['Dubai International Cricket Stadium', 'Sheikh Zayed Stadium', 'Sardar Patel Stadium, Motera']}\n"
          ]
        }
      ]
    },
    {
      "cell_type": "code",
      "source": [
        "#most number of catches taken by a player in IPL\n",
        "qry2_result=db.get_query2_result()\n",
        "print(qry2_result)"
      ],
      "metadata": {
        "colab": {
          "base_uri": "https://localhost:8080/"
        },
        "id": "SyvYO-MdMlBZ",
        "outputId": "3f8d2e8d-905d-406a-df36-24b354cc0980"
      },
      "execution_count": null,
      "outputs": [
        {
          "output_type": "stream",
          "name": "stdout",
          "text": [
            "{'Catches': [118]}\n"
          ]
        }
      ]
    },
    {
      "cell_type": "code",
      "source": [
        "#highest wicket taker in matches which are affected by D/L method\n",
        "qry3_result=db.get_query3_result()\n",
        "print(qry3_result)"
      ],
      "metadata": {
        "colab": {
          "base_uri": "https://localhost:8080/"
        },
        "id": "w8JVOqmLMpj6",
        "outputId": "1e1016c7-3741-457d-b822-945c96f1d65f"
      },
      "execution_count": null,
      "outputs": [
        {
          "output_type": "stream",
          "name": "stdout",
          "text": [
            "{'Bowler': ['R Ashwin']}\n"
          ]
        }
      ]
    },
    {
      "cell_type": "code",
      "source": [
        "#highest strike rate by a batsman in non powerplay overs\n",
        "qry4_result=db.get_query4_result()\n",
        "print(qry4_result)"
      ],
      "metadata": {
        "colab": {
          "base_uri": "https://localhost:8080/"
        },
        "id": "m-ek6NKlMtGT",
        "outputId": "d617feb6-72c9-4fe3-9aed-af7004191ff8"
      },
      "execution_count": null,
      "outputs": [
        {
          "output_type": "stream",
          "name": "stdout",
          "text": [
            "{'Strike rate': [75.0]}\n"
          ]
        }
      ]
    },
    {
      "cell_type": "code",
      "source": [
        "#highest extra runs in a venue\n",
        "qry5_result=db.get_query5_result()\n",
        "print(qry5_result)"
      ],
      "metadata": {
        "colab": {
          "base_uri": "https://localhost:8080/"
        },
        "id": "WQb7emi4Mvca",
        "outputId": "c6a740c4-8f2a-4a43-c6aa-943877a03afb"
      },
      "execution_count": null,
      "outputs": [
        {
          "output_type": "stream",
          "name": "stdout",
          "text": [
            "{'Extra runs': [38], 'Stadium': ['Eden Gardens'], 'City': ['Kolkata']}\n"
          ]
        }
      ]
    },
    {
      "cell_type": "code",
      "source": [
        "#cricketer with the most number of player of the match award in neutral venues\n",
        "qry6_result=db.get_query6_result()\n",
        "print(qry6_result)"
      ],
      "metadata": {
        "colab": {
          "base_uri": "https://localhost:8080/"
        },
        "id": "rVG7iL4rMxHv",
        "outputId": "16361e43-15c1-441e-cb63-faf02d7c87d4"
      },
      "execution_count": null,
      "outputs": [
        {
          "output_type": "stream",
          "name": "stdout",
          "text": [
            "{'Player of the match': ['YK Pathan']}\n"
          ]
        }
      ]
    },
    {
      "cell_type": "code",
      "source": [
        "#list of top 10 players with highest batting average\n",
        "qry7_result=db.get_query7_result()\n",
        "print(qry7_result)"
      ],
      "metadata": {
        "colab": {
          "base_uri": "https://localhost:8080/"
        },
        "id": "qLwlU8wuMzFn",
        "outputId": "3afd59b7-b033-40cd-b564-132d47e36bc8"
      },
      "execution_count": null,
      "outputs": [
        {
          "output_type": "stream",
          "name": "stdout",
          "text": [
            "{'Batsman': ['MN van Wyk', 'RD Gaikwad', 'AC Voges', 'KL Rahul', 'HM Amla', 'Iqbal Abdulla', 'DA Warner', 'JM Bairstow', 'CH Gayle', 'MS Dhoni'], 'Runs': [167, 204, 181, 2647, 577, 88, 5254, 790, 4772, 4632], 'player_dismissed': ['MN van Wyk', 'RD Gaikwad', 'AC Voges', 'KL Rahul', 'HM Amla', 'Iqbal Abdulla', 'DA Warner', 'JM Bairstow', 'CH Gayle', 'MS Dhoni'], 'Out Total': [3, 4, 4, 59, 13, 2, 123, 19, 116, 113], 'Batting Average': [55.666666666666664, 51.0, 45.25, 44.86440677966102, 44.38461538461539, 44.0, 42.71544715447155, 41.578947368421055, 41.13793103448276, 40.991150442477874]}\n"
          ]
        }
      ]
    },
    {
      "cell_type": "code",
      "source": [
        "#who officiated the most number of matches in IPL\n",
        "qry8_result=db.get_query8_result()\n",
        "print(qry8_result)"
      ],
      "metadata": {
        "colab": {
          "base_uri": "https://localhost:8080/"
        },
        "id": "BHXLznhXM1Rm",
        "outputId": "d837c17e-3516-42a2-fdff-857e7ef53aab"
      },
      "execution_count": null,
      "outputs": [
        {
          "output_type": "stream",
          "name": "stdout",
          "text": [
            "{'Umpire_Name': ['S Ravi']}\n"
          ]
        }
      ]
    },
    {
      "cell_type": "code",
      "source": [
        "#venue details of the match where V Kohli scored the highest individual runs in IPL\n",
        "qry9_result=db.get_query9_result()\n",
        "print(qry9_result)"
      ],
      "metadata": {
        "colab": {
          "base_uri": "https://localhost:8080/"
        },
        "id": "qjeccJjbM87o",
        "outputId": "09e9bfec-627b-4786-88f4-105d6ac66fc3"
      },
      "execution_count": null,
      "outputs": [
        {
          "output_type": "stream",
          "name": "stdout",
          "text": [
            "{'Venue_id': [35], 'Venue': ['M.Chinnaswamy Stadium'], 'City': ['Bengaluru']}\n"
          ]
        }
      ]
    },
    {
      "cell_type": "code",
      "source": [
        "#visualization of winning/lossing tosses impact on matches and the result\n",
        "qry10_result=db.get_query10_result()\n",
        "import matplotlib.pyplot as plt\n",
        "plt.figure(figsize=(12,6))\n",
        "plt.title('Visualization of winning/losing of toss against the match result')\n",
        "plt.pie(qry10_result,labels=win_counts.index,autopct='%1.2f%%', startangle=180)"
      ],
      "metadata": {
        "colab": {
          "base_uri": "https://localhost:8080/",
          "height": 532
        },
        "id": "RMFdIeZcNArh",
        "outputId": "9af70010-e322-4882-d5cd-a999c7219eae"
      },
      "execution_count": null,
      "outputs": [
        {
          "output_type": "stream",
          "name": "stderr",
          "text": [
            "/usr/local/lib/python3.7/dist-packages/ipykernel_launcher.py:6: MatplotlibDeprecationWarning: Non-1D inputs to pie() are currently squeeze()d, but this behavior is deprecated since 3.1 and will be removed in 3.3; pass a 1D array instead.\n",
            "  \n"
          ]
        },
        {
          "output_type": "execute_result",
          "data": {
            "text/plain": [
              "([<matplotlib.patches.Wedge at 0x7f4dd0b68110>,\n",
              "  <matplotlib.patches.Wedge at 0x7f4dd0d02190>],\n",
              " [Text(0.04233941135100639, -1.09918486809383, 'True'),\n",
              "  Text(-0.04233941135100625, 1.09918486809383, 'False')],\n",
              " [Text(0.02309422437327621, -0.5995553825966345, '51.23%'),\n",
              "  Text(-0.023094224373276136, 0.5995553825966345, '48.77%')])"
            ]
          },
          "metadata": {},
          "execution_count": 175
        },
        {
          "output_type": "display_data",
          "data": {
            "image/png": "[encoded data removed]",
            "text/plain": [
              "<Figure size 864x432 with 1 Axes>"
            ]
          },
          "metadata": {}
        }
      ]
    },
    {
      "cell_type": "code",
      "source": [
        ""
      ],
      "metadata": {
        "id": "g92kst6LNNnn"
      },
      "execution_count": null,
      "outputs": []
    }
  ],
  "metadata": {
    "colab": {
      "name": "DataGrokr.ipynb",
      "provenance": [],
      "collapsed_sections": [
        "3T8-IfMB-Sl0",
        "rBoTJJkieA6h",
        "UomburNaZb-N",
        "1GoKNVHjYScg",
        "1WNftvk7X0N8",
        "XO1GnTwHyjmE",
        "Ktq_HfiWavRS",
        "5jm9iQAIpv9t",
        "Ilt75pE7smPE",
        "Tl5t0_SLyTnQ",
        "cmo9Yxl-VMlU",
        "KobhaIhH50NL",
        "gHJBmfRXJU3e"
      ]
    },
    "kernelspec": {
      "display_name": "Python 3",
      "name": "python3"
    },
    "language_info": {
      "name": "python"
    }
  },
  "nbformat": 4,
  "nbformat_minor": 0
}